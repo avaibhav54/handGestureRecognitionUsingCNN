{
 "cells": [
  {
   "cell_type": "code",
   "execution_count": null,
   "metadata": {},
   "outputs": [],
   "source": [
    "from keras.preprocessing import image\n",
    "from keras.models import load_model\n",
    "import numpy as np\n",
    "model = load_model('model.h5')\n",
    "print(\"Model Loaded Successfully\")\n",
    "\n",
    "def classify(img_file):\n",
    "    img_name = img_file\n",
    "    test_image = image.load_img(img_name, target_size = (256, 256),grayscale=True)\n",
    "\n",
    "    test_image = image.img_to_array(test_image)\n",
    "    test_image = np.expand_dims(test_image, axis=0)\n",
    "    result = model.predict(test_image)\n",
    "    arr = np.array(result[0])\n",
    "    print(arr)\n",
    "    maxx = np.amax(arr)\n",
    "    max_prob = arr.argmax(axis=0)\n",
    "    max_prob = max_prob + 1\n",
    "    classes=[\"NONE\", \"ONE\", \"TWO\", \"THREE\", \"FOUR\", \"FIVE\"]\n",
    "    result = classes[max_prob - 1]\n",
    "    print(img_name,result)\n",
    "\n",
    "\n",
    "import os\n",
    "path = 'D:/MasterClass/Artificial_Intelligence/Day13/Dataset/val/TWO'\n",
    "files = []\n",
    "# r=root, d=directories, f = files\n",
    "for r, d, f in os.walk(path):\n",
    "    for file in f:\n",
    "        if '.png' in file:\n",
    "            files.append(os.path.join(r, file))\n",
    "\n",
    "for f in files:\n",
    "    classify(f)\n",
    "    print('\\n')"
   ]
  }
 ],
 "metadata": {
  "kernelspec": {
   "display_name": "Python 3",
   "language": "python",
   "name": "python3"
  },
  "language_info": {
   "codemirror_mode": {
    "name": "ipython",
    "version": 3
   },
   "file_extension": ".py",
   "mimetype": "text/x-python",
   "name": "python",
   "nbconvert_exporter": "python",
   "pygments_lexer": "ipython3",
   "version": "3.8.5"
  }
 },
 "nbformat": 4,
 "nbformat_minor": 4
}
